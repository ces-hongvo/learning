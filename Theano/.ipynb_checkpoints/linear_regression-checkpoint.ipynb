{
 "cells": [
  {
   "cell_type": "code",
   "execution_count": null,
   "metadata": {
    "scrolled": true
   },
   "outputs": [],
   "source": [
    "import os\n",
    "os.environ[\"MKL_THREADING_LAYER\"] = \"GNU\"\n",
    "import numpy\n",
    "import theano\n",
    "import theano.tensor as T\n",
    "rng = numpy.random\n",
    "\n",
    "N = 200\n",
    "feats = 50\n",
    "\n",
    "D = (rng.rand(N, feats), rng.randint(size = N, low = 0, high = 2))\n",
    "training_steps = 1000\n",
    "x = T.dmatrix('x')\n",
    "y = T.dvector('y')\n",
    "\n",
    "w = theano.shared(rng.random(feats), name = 'w')\n",
    "b = theano.shared(0., name = 'b')\n",
    "\n",
    "print(\"Initial model:\")\n",
    "print(w.get_value())\n",
    "print(b.get_value())\n",
    "\n",
    "p_1 = 1 / (1 + T.exp(-T.dot(x, w) - b))\n",
    "prediction = p_1 > 0.5\n",
    "xent = -y * T.log(p_1) - (1-y) * T.log(1-p_1)\n",
    "cost = xent.mean() + 0.01 * (w**2).sum()\n",
    "gw, gb = T.grad(cost, [w,b])\n",
    "\n",
    "train = theano.function(\n",
    "    inputs=[x,y],\n",
    "    outputs=[prediction,xent],\n",
    "    updates=((w, w - 0.1 * gw), (b, b - 0.1 * gb)))\n",
    "\n",
    "predict = theano.function(inputs=[x], outputs=[prediction])\n",
    "\n",
    "for i in range(training_steps):\n",
    "    pred, err = train(D[0], D[1])\n",
    "    \n",
    "print(\"Final model:\")\n",
    "print(w.get_value())\n",
    "print(b.get_value())\n",
    "print(\"target values for D:\")\n",
    "print(D[1])\n",
    "print(\"prediction on D:\")\n",
    "print(predict(D[0]))"
   ]
  },
  {
   "cell_type": "code",
   "execution_count": null,
   "metadata": {},
   "outputs": [],
   "source": []
  }
 ],
 "metadata": {
  "kernelspec": {
   "display_name": "Python 2",
   "language": "python",
   "name": "python2"
  },
  "language_info": {
   "codemirror_mode": {
    "name": "ipython",
    "version": 2
   },
   "file_extension": ".py",
   "mimetype": "text/x-python",
   "name": "python",
   "nbconvert_exporter": "python",
   "pygments_lexer": "ipython2",
   "version": "2.7.15"
  }
 },
 "nbformat": 4,
 "nbformat_minor": 2
}
